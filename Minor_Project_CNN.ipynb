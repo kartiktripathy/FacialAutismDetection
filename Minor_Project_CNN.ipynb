{
  "nbformat": 4,
  "nbformat_minor": 0,
  "metadata": {
    "colab": {
      "name": "Minor Project_CNN ",
      "provenance": [],
      "collapsed_sections": []
    },
    "kernelspec": {
      "name": "python3",
      "display_name": "Python 3"
    },
    "language_info": {
      "name": "python"
    },
    "accelerator": "GPU"
  },
  "cells": [
    {
      "cell_type": "markdown",
      "metadata": {
        "id": "nJJMjoTiYNwF"
      },
      "source": [
        "# App development for Facial Autism Recognition"
      ]
    },
    {
      "cell_type": "markdown",
      "metadata": {
        "id": "ZlgpHBzHZCzX"
      },
      "source": [
        "## Mentored By - Dr. Sumit Srivastava\n",
        "## Executed by:\n",
        "1.   Kartik Tripathi, 189302052\n",
        "2.   Uday Dasari, 189302090\n",
        "\n"
      ]
    },
    {
      "cell_type": "markdown",
      "metadata": {
        "id": "3pP9MoAxReOb"
      },
      "source": [
        "## Data preprocessing"
      ]
    },
    {
      "cell_type": "code",
      "metadata": {
        "id": "7ZM3NNGaQZCr"
      },
      "source": [
        "import tensorflow as tf\n",
        "from keras.preprocessing.image import ImageDataGenerator"
      ],
      "execution_count": null,
      "outputs": []
    },
    {
      "cell_type": "code",
      "metadata": {
        "colab": {
          "base_uri": "https://localhost:8080/"
        },
        "id": "6kJ6vjpEQaHR",
        "outputId": "6afe264d-372e-41db-e39d-950e84b35760"
      },
      "source": [
        "train_datagen = ImageDataGenerator(rescale = 1./255,#divide each pixel by 255 ....feature scaling\n",
        "                                   shear_range = 0.2,\n",
        "                                   zoom_range = 0.2,\n",
        "                                   horizontal_flip = True)#this is the object of the imagedatagenerator class\n",
        "train_datagen"
      ],
      "execution_count": null,
      "outputs": [
        {
          "output_type": "execute_result",
          "data": {
            "text/plain": [
              "<keras.preprocessing.image.ImageDataGenerator at 0x7fa147f617d0>"
            ]
          },
          "metadata": {
            "tags": []
          },
          "execution_count": 6
        }
      ]
    },
    {
      "cell_type": "code",
      "metadata": {
        "colab": {
          "base_uri": "https://localhost:8080/"
        },
        "id": "1g5KbLdaQmYE",
        "outputId": "f6193d8a-2741-48ef-f25d-d4ec66e0b9a9"
      },
      "source": [
        "training_set = train_datagen.flow_from_directory('/content/drive/MyDrive/Autism Data/train',\n",
        "                                                 target_size = (64, 64),#final size of the image\n",
        "                                                 batch_size = 32,\n",
        "                                                 class_mode = 'binary')#mode is either categorical or binary , since we are predicting b/w two values we can take binary\n",
        "training_set"
      ],
      "execution_count": null,
      "outputs": [
        {
          "output_type": "stream",
          "text": [
            "Found 2536 images belonging to 2 classes.\n"
          ],
          "name": "stdout"
        },
        {
          "output_type": "execute_result",
          "data": {
            "text/plain": [
              "<keras.preprocessing.image.DirectoryIterator at 0x7fa147f68250>"
            ]
          },
          "metadata": {
            "tags": []
          },
          "execution_count": 7
        }
      ]
    },
    {
      "cell_type": "code",
      "metadata": {
        "colab": {
          "base_uri": "https://localhost:8080/"
        },
        "id": "i_3WyW2iRKGj",
        "outputId": "0dc4b583-92ee-486e-e95c-63d49b07b12b"
      },
      "source": [
        "test_datagen = ImageDataGenerator(rescale = 1./255)#we will not apply any changes to the test images , but will change the pixels\n",
        "test_set = test_datagen.flow_from_directory('/content/drive/MyDrive/Autism Data/valid',\n",
        "                                            target_size = (64, 64),\n",
        "                                            batch_size = 32,\n",
        "                                            class_mode = 'binary')\n",
        "test_set"
      ],
      "execution_count": null,
      "outputs": [
        {
          "output_type": "stream",
          "text": [
            "Found 100 images belonging to 2 classes.\n"
          ],
          "name": "stdout"
        },
        {
          "output_type": "execute_result",
          "data": {
            "text/plain": [
              "<keras.preprocessing.image.DirectoryIterator at 0x7fa147fc6f10>"
            ]
          },
          "metadata": {
            "tags": []
          },
          "execution_count": 8
        }
      ]
    },
    {
      "cell_type": "markdown",
      "metadata": {
        "id": "3Io0UYUSRhtB"
      },
      "source": [
        "## CNN Architecture"
      ]
    },
    {
      "cell_type": "code",
      "metadata": {
        "colab": {
          "base_uri": "https://localhost:8080/"
        },
        "id": "Oy67si9GRcd6",
        "outputId": "eb265e03-41f0-45b1-98af-84fb850e551a"
      },
      "source": [
        "# Initialising the CNN\n",
        "cnn = tf.keras.models.Sequential()#same as ann\n",
        "cnn"
      ],
      "execution_count": null,
      "outputs": [
        {
          "output_type": "execute_result",
          "data": {
            "text/plain": [
              "<tensorflow.python.keras.engine.sequential.Sequential at 0x7fa146f307d0>"
            ]
          },
          "metadata": {
            "tags": []
          },
          "execution_count": 9
        }
      ]
    },
    {
      "cell_type": "code",
      "metadata": {
        "id": "l2HCVsiGRrvy"
      },
      "source": [
        "# Step 1 - Convolution\n",
        "cnn.add(tf.keras.layers.Conv2D(filters=64, kernel_size=3, activation='relu', input_shape=[64, 64, 3]))"
      ],
      "execution_count": null,
      "outputs": []
    },
    {
      "cell_type": "code",
      "metadata": {
        "id": "6iBzzOUZSIyD"
      },
      "source": [
        "# Step 2 - Pooling\n",
        "cnn.add(tf.keras.layers.MaxPool2D(pool_size=2, strides=2))"
      ],
      "execution_count": null,
      "outputs": []
    },
    {
      "cell_type": "code",
      "metadata": {
        "id": "qoSRKAx4SSj0"
      },
      "source": [
        "# Adding a second convolutional layer\n",
        "cnn.add(tf.keras.layers.Conv2D(filters=128, kernel_size=3, activation='relu'))# we dont use the input_shape parameter in the intermediate layers\n",
        "cnn.add(tf.keras.layers.MaxPool2D(pool_size=2, strides=2))"
      ],
      "execution_count": null,
      "outputs": []
    },
    {
      "cell_type": "code",
      "metadata": {
        "id": "H1hFs8epSYlM"
      },
      "source": [
        "# Step 3 - Flattening\n",
        "cnn.add(tf.keras.layers.Flatten())"
      ],
      "execution_count": null,
      "outputs": []
    },
    {
      "cell_type": "code",
      "metadata": {
        "id": "fDhW2ZBMSb15"
      },
      "source": [
        "# Step 4 - Full Connection\n",
        "cnn.add(tf.keras.layers.Dense(units=250, activation='relu'))# we chose more no of neurons as it is image"
      ],
      "execution_count": null,
      "outputs": []
    },
    {
      "cell_type": "code",
      "metadata": {
        "id": "9r6XxTHFSgOR"
      },
      "source": [
        "# Step 5 - Output Layer\n",
        "cnn.add(tf.keras.layers.Dense(units=1, activation='sigmoid'))#since the output is binary based , we need only 1 neuron"
      ],
      "execution_count": null,
      "outputs": []
    },
    {
      "cell_type": "markdown",
      "metadata": {
        "id": "CozLvZ1mSony"
      },
      "source": [
        "## Training the CNN"
      ]
    },
    {
      "cell_type": "code",
      "metadata": {
        "id": "mos4m_L2SmrC"
      },
      "source": [
        "# Compiling the CNN\n",
        "cnn.compile(optimizer = 'adam', loss = 'binary_crossentropy', metrics = ['accuracy'])"
      ],
      "execution_count": null,
      "outputs": []
    },
    {
      "cell_type": "code",
      "metadata": {
        "colab": {
          "base_uri": "https://localhost:8080/"
        },
        "id": "Qn4bnhIPTBIV",
        "outputId": "e3208e34-499d-41eb-d03d-560f54031143"
      },
      "source": [
        "checkpoint = tf.keras.callbacks.ModelCheckpoint('model-{epoch:03d}.model',monitor='val_accuracy',verbose=1,save_best_only=True,mode='auto')\n",
        "#to save the best epoch model based on the val_loss...it is saved as .model file or as a folder in your working directory\n",
        "history = cnn.fit(x = training_set, validation_data = test_set, epochs = 30, callbacks=[checkpoint])"
      ],
      "execution_count": null,
      "outputs": [
        {
          "output_type": "stream",
          "text": [
            "Epoch 1/30\n",
            "80/80 [==============================] - 8s 98ms/step - loss: 0.2451 - accuracy: 0.8951 - val_loss: 0.4432 - val_accuracy: 0.7900\n",
            "\n",
            "Epoch 00001: val_accuracy improved from -inf to 0.79000, saving model to model-001.model\n",
            "INFO:tensorflow:Assets written to: model-001.model/assets\n",
            "Epoch 2/30\n",
            "80/80 [==============================] - 8s 99ms/step - loss: 0.2329 - accuracy: 0.9010 - val_loss: 0.4605 - val_accuracy: 0.8300\n",
            "\n",
            "Epoch 00002: val_accuracy improved from 0.79000 to 0.83000, saving model to model-002.model\n",
            "INFO:tensorflow:Assets written to: model-002.model/assets\n",
            "Epoch 3/30\n",
            "80/80 [==============================] - 8s 99ms/step - loss: 0.2309 - accuracy: 0.9085 - val_loss: 0.5098 - val_accuracy: 0.7900\n",
            "\n",
            "Epoch 00003: val_accuracy did not improve from 0.83000\n",
            "Epoch 4/30\n",
            "80/80 [==============================] - 8s 98ms/step - loss: 0.2284 - accuracy: 0.9077 - val_loss: 0.6262 - val_accuracy: 0.7300\n",
            "\n",
            "Epoch 00004: val_accuracy did not improve from 0.83000\n",
            "Epoch 5/30\n",
            "80/80 [==============================] - 8s 97ms/step - loss: 0.1978 - accuracy: 0.9223 - val_loss: 0.5045 - val_accuracy: 0.8100\n",
            "\n",
            "Epoch 00005: val_accuracy did not improve from 0.83000\n",
            "Epoch 6/30\n",
            "80/80 [==============================] - 8s 97ms/step - loss: 0.1911 - accuracy: 0.9211 - val_loss: 0.4915 - val_accuracy: 0.8100\n",
            "\n",
            "Epoch 00006: val_accuracy did not improve from 0.83000\n",
            "Epoch 7/30\n",
            "80/80 [==============================] - 8s 98ms/step - loss: 0.1750 - accuracy: 0.9314 - val_loss: 0.6876 - val_accuracy: 0.7300\n",
            "\n",
            "Epoch 00007: val_accuracy did not improve from 0.83000\n",
            "Epoch 8/30\n",
            "80/80 [==============================] - 8s 98ms/step - loss: 0.1768 - accuracy: 0.9322 - val_loss: 0.7406 - val_accuracy: 0.7800\n",
            "\n",
            "Epoch 00008: val_accuracy did not improve from 0.83000\n",
            "Epoch 9/30\n",
            "80/80 [==============================] - 8s 97ms/step - loss: 0.1582 - accuracy: 0.9377 - val_loss: 0.6572 - val_accuracy: 0.7700\n",
            "\n",
            "Epoch 00009: val_accuracy did not improve from 0.83000\n",
            "Epoch 10/30\n",
            "80/80 [==============================] - 8s 97ms/step - loss: 0.1772 - accuracy: 0.9298 - val_loss: 0.5038 - val_accuracy: 0.8000\n",
            "\n",
            "Epoch 00010: val_accuracy did not improve from 0.83000\n",
            "Epoch 11/30\n",
            "80/80 [==============================] - 8s 97ms/step - loss: 0.1566 - accuracy: 0.9405 - val_loss: 0.6455 - val_accuracy: 0.7900\n",
            "\n",
            "Epoch 00011: val_accuracy did not improve from 0.83000\n",
            "Epoch 12/30\n",
            "80/80 [==============================] - 8s 97ms/step - loss: 0.1482 - accuracy: 0.9405 - val_loss: 0.6642 - val_accuracy: 0.8000\n",
            "\n",
            "Epoch 00012: val_accuracy did not improve from 0.83000\n",
            "Epoch 13/30\n",
            "80/80 [==============================] - 8s 98ms/step - loss: 0.1352 - accuracy: 0.9468 - val_loss: 0.7017 - val_accuracy: 0.7300\n",
            "\n",
            "Epoch 00013: val_accuracy did not improve from 0.83000\n",
            "Epoch 14/30\n",
            "80/80 [==============================] - 8s 97ms/step - loss: 0.1335 - accuracy: 0.9452 - val_loss: 0.7613 - val_accuracy: 0.8000\n",
            "\n",
            "Epoch 00014: val_accuracy did not improve from 0.83000\n",
            "Epoch 15/30\n",
            "80/80 [==============================] - 8s 98ms/step - loss: 0.1105 - accuracy: 0.9637 - val_loss: 0.7162 - val_accuracy: 0.7600\n",
            "\n",
            "Epoch 00015: val_accuracy did not improve from 0.83000\n",
            "Epoch 16/30\n",
            "80/80 [==============================] - 8s 98ms/step - loss: 0.1306 - accuracy: 0.9491 - val_loss: 0.6507 - val_accuracy: 0.7600\n",
            "\n",
            "Epoch 00016: val_accuracy did not improve from 0.83000\n",
            "Epoch 17/30\n",
            "80/80 [==============================] - 8s 97ms/step - loss: 0.1112 - accuracy: 0.9610 - val_loss: 0.7188 - val_accuracy: 0.7900\n",
            "\n",
            "Epoch 00017: val_accuracy did not improve from 0.83000\n",
            "Epoch 18/30\n",
            "80/80 [==============================] - 8s 97ms/step - loss: 0.1164 - accuracy: 0.9578 - val_loss: 0.8709 - val_accuracy: 0.7300\n",
            "\n",
            "Epoch 00018: val_accuracy did not improve from 0.83000\n",
            "Epoch 19/30\n",
            "80/80 [==============================] - 8s 98ms/step - loss: 0.1231 - accuracy: 0.9527 - val_loss: 0.8242 - val_accuracy: 0.7200\n",
            "\n",
            "Epoch 00019: val_accuracy did not improve from 0.83000\n",
            "Epoch 20/30\n",
            "80/80 [==============================] - 8s 97ms/step - loss: 0.0897 - accuracy: 0.9700 - val_loss: 0.8734 - val_accuracy: 0.7300\n",
            "\n",
            "Epoch 00020: val_accuracy did not improve from 0.83000\n",
            "Epoch 21/30\n",
            "80/80 [==============================] - 8s 98ms/step - loss: 0.0901 - accuracy: 0.9665 - val_loss: 0.9226 - val_accuracy: 0.7700\n",
            "\n",
            "Epoch 00021: val_accuracy did not improve from 0.83000\n",
            "Epoch 22/30\n",
            "80/80 [==============================] - 8s 97ms/step - loss: 0.1062 - accuracy: 0.9637 - val_loss: 0.7224 - val_accuracy: 0.7900\n",
            "\n",
            "Epoch 00022: val_accuracy did not improve from 0.83000\n",
            "Epoch 23/30\n",
            "80/80 [==============================] - 8s 98ms/step - loss: 0.0773 - accuracy: 0.9720 - val_loss: 0.8491 - val_accuracy: 0.7500\n",
            "\n",
            "Epoch 00023: val_accuracy did not improve from 0.83000\n",
            "Epoch 24/30\n",
            "80/80 [==============================] - 8s 99ms/step - loss: 0.0706 - accuracy: 0.9732 - val_loss: 0.8229 - val_accuracy: 0.7500\n",
            "\n",
            "Epoch 00024: val_accuracy did not improve from 0.83000\n",
            "Epoch 25/30\n",
            "80/80 [==============================] - 8s 100ms/step - loss: 0.0862 - accuracy: 0.9669 - val_loss: 0.8626 - val_accuracy: 0.7400\n",
            "\n",
            "Epoch 00025: val_accuracy did not improve from 0.83000\n",
            "Epoch 26/30\n",
            "80/80 [==============================] - 8s 100ms/step - loss: 0.0688 - accuracy: 0.9728 - val_loss: 0.9932 - val_accuracy: 0.7400\n",
            "\n",
            "Epoch 00026: val_accuracy did not improve from 0.83000\n",
            "Epoch 27/30\n",
            "80/80 [==============================] - 8s 97ms/step - loss: 0.0701 - accuracy: 0.9744 - val_loss: 0.8205 - val_accuracy: 0.7400\n",
            "\n",
            "Epoch 00027: val_accuracy did not improve from 0.83000\n",
            "Epoch 28/30\n",
            "80/80 [==============================] - 8s 98ms/step - loss: 0.0714 - accuracy: 0.9728 - val_loss: 0.9497 - val_accuracy: 0.7700\n",
            "\n",
            "Epoch 00028: val_accuracy did not improve from 0.83000\n",
            "Epoch 29/30\n",
            "80/80 [==============================] - 8s 97ms/step - loss: 0.0761 - accuracy: 0.9736 - val_loss: 0.9397 - val_accuracy: 0.7400\n",
            "\n",
            "Epoch 00029: val_accuracy did not improve from 0.83000\n",
            "Epoch 30/30\n",
            "80/80 [==============================] - 8s 98ms/step - loss: 0.0679 - accuracy: 0.9740 - val_loss: 1.2880 - val_accuracy: 0.7300\n",
            "\n",
            "Epoch 00030: val_accuracy did not improve from 0.83000\n"
          ],
          "name": "stdout"
        }
      ]
    },
    {
      "cell_type": "code",
      "metadata": {
        "colab": {
          "base_uri": "https://localhost:8080/"
        },
        "id": "2Ai24DNOfJaG",
        "outputId": "22598102-08bf-43ae-e0e0-936a02377522"
      },
      "source": [
        "import matplotlib.pyplot as plt\n",
        "loss = history.history['loss']\n",
        "val_loss = history.history['val_loss']\n",
        "epochs = range(1, len(loss) + 1)\n",
        "plt.plot(epochs, loss, color='red', label='Training loss')\n",
        "plt.plot(epochs, val_loss, color='green', label='Validation loss')\n",
        "plt.title('Training and validation loss')\n",
        "plt.xlabel('Epochs')\n",
        "plt.ylabel('Loss')\n",
        "plt.legend()\n",
        "plt.show()"
      ],
      "execution_count": null,
      "outputs": [
        {
          "output_type": "display_data",
          "data": {
            "image/png": "[encoded data removed]",
            "text/plain": [
              "<Figure size 432x288 with 1 Axes>"
            ]
          },
          "metadata": {
            "tags": [],
            "needs_background": "light"
          }
        }
      ]
    },
    {
      "cell_type": "code",
      "metadata": {
        "colab": {
          "base_uri": "https://localhost:8080/"
        },
        "id": "jZDYVkr5gevI",
        "outputId": "1e108025-3059-4f2a-d335-0d7985e34d78"
      },
      "source": [
        "acc = history.history['accuracy']\n",
        "val_acc = history.history['val_accuracy']\n",
        "plt.plot(epochs, acc, color='red', label='Training acc')\n",
        "plt.plot(epochs, val_acc, color='green', label='Validation acc')\n",
        "plt.title('Training and validation accuracy')\n",
        "plt.xlabel('Epochs')\n",
        "plt.ylabel('Loss')\n",
        "plt.legend()\n",
        "plt.show()"
      ],
      "execution_count": null,
      "outputs": [
        {
          "output_type": "display_data",
          "data": {
            "image/png": "[encoded data removed]",
            "text/plain": [
              "<Figure size 432x288 with 1 Axes>"
            ]
          },
          "metadata": {
            "tags": [],
            "needs_background": "light"
          }
        }
      ]
    },
    {
      "cell_type": "markdown",
      "metadata": {
        "id": "8AoHgiZkE9k-"
      },
      "source": [
        "## Breaking down of video into frames"
      ]
    },
    {
      "cell_type": "code",
      "metadata": {
        "id": "wPCLa1lhFD1R"
      },
      "source": [
        "import cv2\n",
        "def FrameCapture(path):\n",
        "    vidObj = cv2.VideoCapture(path)\n",
        "    count = 0\n",
        "    success = 1\n",
        "    while success:\n",
        "        success, image = vidObj.read()\n",
        "        try:\n",
        "          cv2.imwrite(\"frame%d.jpg\" % count, image)\n",
        "        except:\n",
        "          pass\n",
        "        count += 1\n",
        "  \n",
        "if __name__ == '__main__':\n",
        "  FrameCapture(r\"/content/drive/MyDrive/video to images test 1.mp4\")"
      ],
      "execution_count": null,
      "outputs": []
    },
    {
      "cell_type": "markdown",
      "metadata": {
        "id": "T0oTJe5nMF1_"
      },
      "source": [
        "## Making a Single Prediction"
      ]
    },
    {
      "cell_type": "code",
      "metadata": {
        "colab": {
          "base_uri": "https://localhost:8080/"
        },
        "id": "nPsKGy38MkpG",
        "outputId": "446dddae-f0fd-47b6-ba0f-367daa9679f8"
      },
      "source": [
        "training_set.class_indices"
      ],
      "execution_count": null,
      "outputs": [
        {
          "output_type": "execute_result",
          "data": {
            "text/plain": [
              "{'autistic': 0, 'non_autistic': 1}"
            ]
          },
          "metadata": {
            "tags": []
          },
          "execution_count": 20
        }
      ]
    },
    {
      "cell_type": "code",
      "metadata": {
        "colab": {
          "base_uri": "https://localhost:8080/"
        },
        "id": "BRxfkIJ5MFZG",
        "outputId": "ffdd48fb-9662-4829-de47-4b10d9f2178a"
      },
      "source": [
        "import numpy as np\n",
        "from keras.preprocessing import image\n",
        "test_image = image.load_img('/content/frame105.jpg', target_size = (64, 64))\n",
        "test_image = image.img_to_array(test_image)\n",
        "test_image = np.expand_dims(test_image, axis = 0)\n",
        "result = cnn.predict(test_image)\n",
        "if result[0][0] == 1:\n",
        "    prediction = 'non_autistic'\n",
        "else:\n",
        "    prediction = 'autistic'\n",
        "print(prediction)"
      ],
      "execution_count": null,
      "outputs": [
        {
          "output_type": "stream",
          "text": [
            "non_autistic\n"
          ],
          "name": "stdout"
        }
      ]
    },
    {
      "cell_type": "markdown",
      "metadata": {
        "id": "Z-JJEZDbRi8r"
      },
      "source": [
        "## Making combined prediction for the video"
      ]
    },
    {
      "cell_type": "code",
      "metadata": {
        "colab": {
          "base_uri": "https://localhost:8080/"
        },
        "id": "AQ_YdDr5Rnef",
        "outputId": "eda795aa-7e69-4ba9-d93f-512eeef5883b"
      },
      "source": [
        "import numpy as np\n",
        "from keras.preprocessing import image\n",
        "import matplotlib.pyplot as plt\n",
        "from statistics import mean\n",
        "result_arr = []\n",
        "for i in range(4708):\n",
        "  img_cnt = \"/content/frame\"+str(i)+\".jpg\"\n",
        "  test_image = image.load_img(img_cnt, target_size = (64, 64))\n",
        "  test_image = image.img_to_array(test_image)\n",
        "  test_image = np.expand_dims(test_image, axis = 0)\n",
        "  result = cnn.predict(test_image)\n",
        "  result_arr.append(result[0][0])\n",
        "avg_pred = mean(result_arr)\n",
        "if avg_pred >= 0.5:\n",
        "    prediction = 'non_autistic'\n",
        "else:\n",
        "    prediction = 'autistic'\n",
        "plt.plot(result_arr)\n",
        "plt.xlabel('Image Count')\n",
        "plt.ylabel('Prediction')\n",
        "plt.title(\"Prediction Per Image Frame\")\n",
        "plt.show()\n",
        "print(prediction)\n",
        "print(avg_pred)"
      ],
      "execution_count": null,
      "outputs": [
        {
          "output_type": "display_data",
          "data": {
            "image/png": "[encoded data removed]",
            "text/plain": [
              "<Figure size 432x288 with 1 Axes>"
            ]
          },
          "metadata": {
            "tags": [],
            "needs_background": "light"
          }
        },
        {
          "output_type": "stream",
          "text": [
            "autistic\n",
            "0.17168452\n"
          ],
          "name": "stdout"
        }
      ]
    },
    {
      "cell_type": "markdown",
      "metadata": {
        "id": "sKP4r5geKVOO"
      },
      "source": [
        "## ✈ Streamlit ✈"
      ]
    },
    {
      "cell_type": "code",
      "metadata": {
        "colab": {
          "base_uri": "https://localhost:8080/"
        },
        "id": "M2V8ucLSKZ0g",
        "outputId": "3d604cda-a9d2-422d-fc2a-8c56e57b9a8d"
      },
      "source": [
        "!pip install -q streamlit\n",
        "!wget https://bin.equinox.io/c/4VmDzA7iaHb/ngrok-stable-linux-amd64.zip\n",
        "!unzip ngrok-stable-linux-amd64.zip\n",
        "get_ipython().system_raw('./ngrok http 8501 &')\n",
        "!curl -s http://localhost:4040/api/tunnels | python3 -c \\\n",
        "    'import sys, json; print(\"Execute the next cell and the go to the following URL: \" +json.load(sys.stdin)[\"tunnels\"][0][\"public_url\"])'\n",
        "!streamlit run /content/drive/MyDrive/app.py"
      ],
      "execution_count": null,
      "outputs": [
        {
          "output_type": "stream",
          "text": [
            "\u001b[K     |████████████████████████████████| 8.2MB 20.7MB/s \n",
            "\u001b[K     |████████████████████████████████| 174kB 55.3MB/s \n",
            "\u001b[K     |████████████████████████████████| 112kB 54.2MB/s \n",
            "\u001b[K     |████████████████████████████████| 81kB 12.4MB/s \n",
            "\u001b[K     |████████████████████████████████| 4.2MB 48.6MB/s \n",
            "\u001b[K     |████████████████████████████████| 71kB 11.3MB/s \n",
            "\u001b[K     |████████████████████████████████| 122kB 60.8MB/s \n",
            "\u001b[?25h  Building wheel for blinker (setup.py) ... \u001b[?25l\u001b[?25hdone\n",
            "\u001b[31mERROR: google-colab 1.0.0 has requirement ipykernel~=4.10, but you'll have ipykernel 5.5.5 which is incompatible.\u001b[0m\n",
            "--2021-06-14 01:43:31--  https://bin.equinox.io/c/4VmDzA7iaHb/ngrok-stable-linux-amd64.zip\n",
            "Resolving bin.equinox.io (bin.equinox.io)... 54.236.206.131, 3.83.211.184, 34.197.154.58, ...\n",
            "Connecting to bin.equinox.io (bin.equinox.io)|54.236.206.131|:443... connected.\n",
            "HTTP request sent, awaiting response... 200 OK\n",
            "Length: 13832437 (13M) [application/octet-stream]\n",
            "Saving to: ‘ngrok-stable-linux-amd64.zip’\n",
            "\n",
            "ngrok-stable-linux- 100%[===================>]  13.19M  68.5MB/s    in 0.2s    \n",
            "\n",
            "2021-06-14 01:43:31 (68.5 MB/s) - ‘ngrok-stable-linux-amd64.zip’ saved [13832437/13832437]\n",
            "\n",
            "Archive:  ngrok-stable-linux-amd64.zip\n",
            "  inflating: ngrok                   \n",
            "Execute the next cell and the go to the following URL: https://5d3d3d13d290.ngrok.io\n",
            "2021-06-14 01:43:33.294750: I tensorflow/stream_executor/platform/default/dso_loader.cc:53] Successfully opened dynamic library libcudart.so.11.0\n",
            "\u001b[0m\n",
            "\u001b[34m\u001b[1m  You can now view your Streamlit app in your browser.\u001b[0m\n",
            "\u001b[0m\n",
            "\u001b[34m  Network URL: \u001b[0m\u001b[1mhttp://172.28.0.2:8501\u001b[0m\n",
            "\u001b[34m  External URL: \u001b[0m\u001b[1mhttp://35.245.47.228:8501\u001b[0m\n",
            "\u001b[0m\n",
            "2021-06-14 01:43:36.083982: I tensorflow/stream_executor/platform/default/dso_loader.cc:53] Successfully opened dynamic library libcuda.so.1\n",
            "2021-06-14 01:43:36.148230: I tensorflow/stream_executor/cuda/cuda_gpu_executor.cc:937] successful NUMA node read from SysFS had negative value (-1), but there must be at least one NUMA node, so returning NUMA node zero\n",
            "2021-06-14 01:43:36.148832: I tensorflow/core/common_runtime/gpu/gpu_device.cc:1733] Found device 0 with properties: \n",
            "pciBusID: 0000:00:04.0 name: Tesla T4 computeCapability: 7.5\n",
            "coreClock: 1.59GHz coreCount: 40 deviceMemorySize: 14.75GiB deviceMemoryBandwidth: 298.08GiB/s\n",
            "2021-06-14 01:43:36.148882: I tensorflow/stream_executor/platform/default/dso_loader.cc:53] Successfully opened dynamic library libcudart.so.11.0\n",
            "2021-06-14 01:43:36.197885: I tensorflow/stream_executor/platform/default/dso_loader.cc:53] Successfully opened dynamic library libcublas.so.11\n",
            "2021-06-14 01:43:36.197981: I tensorflow/stream_executor/platform/default/dso_loader.cc:53] Successfully opened dynamic library libcublasLt.so.11\n",
            "2021-06-14 01:43:36.383547: I tensorflow/stream_executor/platform/default/dso_loader.cc:53] Successfully opened dynamic library libcufft.so.10\n",
            "2021-06-14 01:43:36.401386: I tensorflow/stream_executor/platform/default/dso_loader.cc:53] Successfully opened dynamic library libcurand.so.10\n",
            "2021-06-14 01:43:36.679223: I tensorflow/stream_executor/platform/default/dso_loader.cc:53] Successfully opened dynamic library libcusolver.so.10\n",
            "2021-06-14 01:43:36.695494: I tensorflow/stream_executor/platform/default/dso_loader.cc:53] Successfully opened dynamic library libcusparse.so.11\n",
            "2021-06-14 01:43:36.699524: I tensorflow/stream_executor/platform/default/dso_loader.cc:53] Successfully opened dynamic library libcudnn.so.8\n",
            "2021-06-14 01:43:36.699713: I tensorflow/stream_executor/cuda/cuda_gpu_executor.cc:937] successful NUMA node read from SysFS had negative value (-1), but there must be at least one NUMA node, so returning NUMA node zero\n",
            "2021-06-14 01:43:36.700371: I tensorflow/stream_executor/cuda/cuda_gpu_executor.cc:937] successful NUMA node read from SysFS had negative value (-1), but there must be at least one NUMA node, so returning NUMA node zero\n",
            "2021-06-14 01:43:36.704159: I tensorflow/core/common_runtime/gpu/gpu_device.cc:1871] Adding visible gpu devices: 0\n",
            "2021-06-14 01:43:36.704848: I tensorflow/stream_executor/cuda/cuda_gpu_executor.cc:937] successful NUMA node read from SysFS had negative value (-1), but there must be at least one NUMA node, so returning NUMA node zero\n",
            "2021-06-14 01:43:36.705506: I tensorflow/core/common_runtime/gpu/gpu_device.cc:1733] Found device 0 with properties: \n",
            "pciBusID: 0000:00:04.0 name: Tesla T4 computeCapability: 7.5\n",
            "coreClock: 1.59GHz coreCount: 40 deviceMemorySize: 14.75GiB deviceMemoryBandwidth: 298.08GiB/s\n",
            "2021-06-14 01:43:36.705611: I tensorflow/stream_executor/cuda/cuda_gpu_executor.cc:937] successful NUMA node read from SysFS had negative value (-1), but there must be at least one NUMA node, so returning NUMA node zero\n",
            "2021-06-14 01:43:36.706260: I tensorflow/stream_executor/cuda/cuda_gpu_executor.cc:937] successful NUMA node read from SysFS had negative value (-1), but there must be at least one NUMA node, so returning NUMA node zero\n",
            "2021-06-14 01:43:36.706787: I tensorflow/core/common_runtime/gpu/gpu_device.cc:1871] Adding visible gpu devices: 0\n",
            "2021-06-14 01:43:36.709072: I tensorflow/stream_executor/platform/default/dso_loader.cc:53] Successfully opened dynamic library libcudart.so.11.0\n",
            "2021-06-14 01:43:41.339578: I tensorflow/core/common_runtime/gpu/gpu_device.cc:1258] Device interconnect StreamExecutor with strength 1 edge matrix:\n",
            "2021-06-14 01:43:41.339626: I tensorflow/core/common_runtime/gpu/gpu_device.cc:1264]      0 \n",
            "2021-06-14 01:43:41.339644: I tensorflow/core/common_runtime/gpu/gpu_device.cc:1277] 0:   N \n",
            "2021-06-14 01:43:41.339821: I tensorflow/stream_executor/cuda/cuda_gpu_executor.cc:937] successful NUMA node read from SysFS had negative value (-1), but there must be at least one NUMA node, so returning NUMA node zero\n",
            "2021-06-14 01:43:41.340465: I tensorflow/stream_executor/cuda/cuda_gpu_executor.cc:937] successful NUMA node read from SysFS had negative value (-1), but there must be at least one NUMA node, so returning NUMA node zero\n",
            "2021-06-14 01:43:41.341055: I tensorflow/stream_executor/cuda/cuda_gpu_executor.cc:937] successful NUMA node read from SysFS had negative value (-1), but there must be at least one NUMA node, so returning NUMA node zero\n",
            "2021-06-14 01:43:41.341600: W tensorflow/core/common_runtime/gpu/gpu_bfc_allocator.cc:39] Overriding allow_growth setting because the TF_FORCE_GPU_ALLOW_GROWTH environment variable is set. Original config value was 0.\n",
            "2021-06-14 01:43:41.341652: I tensorflow/core/common_runtime/gpu/gpu_device.cc:1418] Created TensorFlow device (/job:localhost/replica:0/task:0/device:GPU:0 with 13837 MB memory) -> physical GPU (device: 0, name: Tesla T4, pci bus id: 0000:00:04.0, compute capability: 7.5)\n",
            "\u001b[34m  Stopping...\u001b[0m\n",
            "\u001b[34m  Stopping...\u001b[0m\n"
          ],
          "name": "stdout"
        }
      ]
    }
  ]
}